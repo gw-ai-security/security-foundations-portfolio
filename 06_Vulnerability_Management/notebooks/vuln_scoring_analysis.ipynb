{
 "cells": [
  {
   "cell_type": "markdown",
   "id": "8466a5c6",
   "metadata": {},
   "source": [
    "\n",
    "# Vulnerability Scoring Analysis\n",
    "Dieses Notebook automatisiert die Auswertung von Schwachstellen basierend auf **CVSS v3.1**.  \n",
    "Es zeigt, wie Findings aus einem Schwachstellenscan geladen, bewertet und priorisiert werden können.\n"
   ]
  },
  {
   "cell_type": "code",
   "execution_count": 1,
   "id": "1bd3fb29",
   "metadata": {},
   "outputs": [
    {
     "data": {
      "text/html": [
       "<div>\n",
       "<style scoped>\n",
       "    .dataframe tbody tr th:only-of-type {\n",
       "        vertical-align: middle;\n",
       "    }\n",
       "\n",
       "    .dataframe tbody tr th {\n",
       "        vertical-align: top;\n",
       "    }\n",
       "\n",
       "    .dataframe thead th {\n",
       "        text-align: right;\n",
       "    }\n",
       "</style>\n",
       "<table border=\"1\" class=\"dataframe\">\n",
       "  <thead>\n",
       "    <tr style=\"text-align: right;\">\n",
       "      <th></th>\n",
       "      <th>Finding ID</th>\n",
       "      <th>Beschreibung</th>\n",
       "      <th>CVSS Score</th>\n",
       "      <th>Asset Kritikalität</th>\n",
       "    </tr>\n",
       "  </thead>\n",
       "  <tbody>\n",
       "    <tr>\n",
       "      <th>0</th>\n",
       "      <td>CVE-2023-1234</td>\n",
       "      <td>Remote Code Execution in Apache</td>\n",
       "      <td>9.8</td>\n",
       "      <td>Hoch</td>\n",
       "    </tr>\n",
       "    <tr>\n",
       "      <th>1</th>\n",
       "      <td>CVE-2022-5678</td>\n",
       "      <td>SQL Injection in Web-App</td>\n",
       "      <td>7.5</td>\n",
       "      <td>Mittel</td>\n",
       "    </tr>\n",
       "    <tr>\n",
       "      <th>2</th>\n",
       "      <td>CVE-2021-1111</td>\n",
       "      <td>Unsichere TLS-Versionen</td>\n",
       "      <td>5.3</td>\n",
       "      <td>Hoch</td>\n",
       "    </tr>\n",
       "    <tr>\n",
       "      <th>3</th>\n",
       "      <td>CVE-2020-9999</td>\n",
       "      <td>Informationsleckage</td>\n",
       "      <td>3.4</td>\n",
       "      <td>Niedrig</td>\n",
       "    </tr>\n",
       "  </tbody>\n",
       "</table>\n",
       "</div>"
      ],
      "text/plain": [
       "      Finding ID                     Beschreibung  CVSS Score  \\\n",
       "0  CVE-2023-1234  Remote Code Execution in Apache         9.8   \n",
       "1  CVE-2022-5678         SQL Injection in Web-App         7.5   \n",
       "2  CVE-2021-1111          Unsichere TLS-Versionen         5.3   \n",
       "3  CVE-2020-9999              Informationsleckage         3.4   \n",
       "\n",
       "  Asset Kritikalität  \n",
       "0               Hoch  \n",
       "1             Mittel  \n",
       "2               Hoch  \n",
       "3            Niedrig  "
      ]
     },
     "execution_count": 1,
     "metadata": {},
     "output_type": "execute_result"
    }
   ],
   "source": [
    "\n",
    "import pandas as pd\n",
    "\n",
    "# Beispiel-Dataset mit Schwachstellen\n",
    "data = [\n",
    "    {\"Finding ID\": \"CVE-2023-1234\", \"Beschreibung\": \"Remote Code Execution in Apache\", \"CVSS Score\": 9.8, \"Asset Kritikalität\": \"Hoch\"},\n",
    "    {\"Finding ID\": \"CVE-2022-5678\", \"Beschreibung\": \"SQL Injection in Web-App\", \"CVSS Score\": 7.5, \"Asset Kritikalität\": \"Mittel\"},\n",
    "    {\"Finding ID\": \"CVE-2021-1111\", \"Beschreibung\": \"Unsichere TLS-Versionen\", \"CVSS Score\": 5.3, \"Asset Kritikalität\": \"Hoch\"},\n",
    "    {\"Finding ID\": \"CVE-2020-9999\", \"Beschreibung\": \"Informationsleckage\", \"CVSS Score\": 3.4, \"Asset Kritikalität\": \"Niedrig\"},\n",
    "]\n",
    "\n",
    "df = pd.DataFrame(data)\n",
    "df\n"
   ]
  },
  {
   "cell_type": "code",
   "execution_count": 2,
   "id": "bb0e8802",
   "metadata": {},
   "outputs": [
    {
     "data": {
      "text/html": [
       "<div>\n",
       "<style scoped>\n",
       "    .dataframe tbody tr th:only-of-type {\n",
       "        vertical-align: middle;\n",
       "    }\n",
       "\n",
       "    .dataframe tbody tr th {\n",
       "        vertical-align: top;\n",
       "    }\n",
       "\n",
       "    .dataframe thead th {\n",
       "        text-align: right;\n",
       "    }\n",
       "</style>\n",
       "<table border=\"1\" class=\"dataframe\">\n",
       "  <thead>\n",
       "    <tr style=\"text-align: right;\">\n",
       "      <th></th>\n",
       "      <th>Finding ID</th>\n",
       "      <th>Beschreibung</th>\n",
       "      <th>CVSS Score</th>\n",
       "      <th>Asset Kritikalität</th>\n",
       "      <th>Risikostufe</th>\n",
       "    </tr>\n",
       "  </thead>\n",
       "  <tbody>\n",
       "    <tr>\n",
       "      <th>0</th>\n",
       "      <td>CVE-2023-1234</td>\n",
       "      <td>Remote Code Execution in Apache</td>\n",
       "      <td>9.8</td>\n",
       "      <td>Hoch</td>\n",
       "      <td>Kritisch</td>\n",
       "    </tr>\n",
       "    <tr>\n",
       "      <th>1</th>\n",
       "      <td>CVE-2022-5678</td>\n",
       "      <td>SQL Injection in Web-App</td>\n",
       "      <td>7.5</td>\n",
       "      <td>Mittel</td>\n",
       "      <td>Hoch</td>\n",
       "    </tr>\n",
       "    <tr>\n",
       "      <th>2</th>\n",
       "      <td>CVE-2021-1111</td>\n",
       "      <td>Unsichere TLS-Versionen</td>\n",
       "      <td>5.3</td>\n",
       "      <td>Hoch</td>\n",
       "      <td>Mittel</td>\n",
       "    </tr>\n",
       "    <tr>\n",
       "      <th>3</th>\n",
       "      <td>CVE-2020-9999</td>\n",
       "      <td>Informationsleckage</td>\n",
       "      <td>3.4</td>\n",
       "      <td>Niedrig</td>\n",
       "      <td>Niedrig</td>\n",
       "    </tr>\n",
       "  </tbody>\n",
       "</table>\n",
       "</div>"
      ],
      "text/plain": [
       "      Finding ID                     Beschreibung  CVSS Score  \\\n",
       "0  CVE-2023-1234  Remote Code Execution in Apache         9.8   \n",
       "1  CVE-2022-5678         SQL Injection in Web-App         7.5   \n",
       "2  CVE-2021-1111          Unsichere TLS-Versionen         5.3   \n",
       "3  CVE-2020-9999              Informationsleckage         3.4   \n",
       "\n",
       "  Asset Kritikalität Risikostufe  \n",
       "0               Hoch    Kritisch  \n",
       "1             Mittel        Hoch  \n",
       "2               Hoch      Mittel  \n",
       "3            Niedrig     Niedrig  "
      ]
     },
     "execution_count": 2,
     "metadata": {},
     "output_type": "execute_result"
    }
   ],
   "source": [
    "\n",
    "# Funktion zur Risikobewertung: Kombination aus CVSS-Score und Asset-Kritikalität\n",
    "def risk_level(row):\n",
    "    score = row[\"CVSS Score\"]\n",
    "    krit = row[\"Asset Kritikalität\"]\n",
    "    \n",
    "    if score >= 9.0 or (score >= 7.0 and krit == \"Hoch\"):\n",
    "        return \"Kritisch\"\n",
    "    elif score >= 7.0:\n",
    "        return \"Hoch\"\n",
    "    elif score >= 4.0:\n",
    "        return \"Mittel\"\n",
    "    else:\n",
    "        return \"Niedrig\"\n",
    "\n",
    "df[\"Risikostufe\"] = df.apply(risk_level, axis=1)\n",
    "df\n"
   ]
  },
  {
   "cell_type": "code",
   "execution_count": 3,
   "id": "f6490ab3",
   "metadata": {},
   "outputs": [
    {
     "data": {
      "text/plain": [
       "Risikostufe\n",
       "Kritisch    1\n",
       "Hoch        1\n",
       "Mittel      1\n",
       "Niedrig     1\n",
       "Name: count, dtype: int64"
      ]
     },
     "execution_count": 3,
     "metadata": {},
     "output_type": "execute_result"
    }
   ],
   "source": [
    "\n",
    "# Anzahl Findings pro Risikostufe\n",
    "summary = df[\"Risikostufe\"].value_counts()\n",
    "summary\n"
   ]
  },
  {
   "cell_type": "code",
   "execution_count": 4,
   "id": "218530c1",
   "metadata": {},
   "outputs": [
    {
     "name": "stdout",
     "output_type": "stream",
     "text": [
      "Ergebnisse in vulnerability_results.csv exportiert.\n"
     ]
    }
   ],
   "source": [
    "\n",
    "# Export der Ergebnisse in CSV\n",
    "df.to_csv(\"vulnerability_results.csv\", index=False)\n",
    "print(\"Ergebnisse in vulnerability_results.csv exportiert.\")\n"
   ]
  },
  {
   "cell_type": "code",
   "execution_count": null,
   "id": "b64a7541-545c-4c5f-b518-511af4fb41af",
   "metadata": {},
   "outputs": [],
   "source": []
  }
 ],
 "metadata": {
  "kernelspec": {
   "display_name": "Python [conda env:base] *",
   "language": "python",
   "name": "conda-base-py"
  },
  "language_info": {
   "codemirror_mode": {
    "name": "ipython",
    "version": 3
   },
   "file_extension": ".py",
   "mimetype": "text/x-python",
   "name": "python",
   "nbconvert_exporter": "python",
   "pygments_lexer": "ipython3",
   "version": "3.13.5"
  }
 },
 "nbformat": 4,
 "nbformat_minor": 5
}
