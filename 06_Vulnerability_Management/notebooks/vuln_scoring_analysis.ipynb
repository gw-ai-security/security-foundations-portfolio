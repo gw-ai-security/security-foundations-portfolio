{
 "cells": [
  {
   "cell_type": "markdown",
   "id": "8466a5c6",
   "metadata": {},
   "source": [
    "\n",
    "# Vulnerability Scoring Analysis\n",
    "Dieses Notebook automatisiert die Auswertung von Schwachstellen basierend auf **CVSS v3.1**.  \n",
    "Es zeigt, wie Findings aus einem Schwachstellenscan geladen, bewertet und priorisiert werden können.\n"
   ]
  },
  {
   "cell_type": "code",
   "execution_count": null,
   "id": "1bd3fb29",
   "metadata": {},
   "outputs": [],
   "source": [
    "\n",
    "import pandas as pd\n",
    "\n",
    "# Beispiel-Dataset mit Schwachstellen\n",
    "data = [\n",
    "    {\"Finding ID\": \"CVE-2023-1234\", \"Beschreibung\": \"Remote Code Execution in Apache\", \"CVSS Score\": 9.8, \"Asset Kritikalität\": \"Hoch\"},\n",
    "    {\"Finding ID\": \"CVE-2022-5678\", \"Beschreibung\": \"SQL Injection in Web-App\", \"CVSS Score\": 7.5, \"Asset Kritikalität\": \"Mittel\"},\n",
    "    {\"Finding ID\": \"CVE-2021-1111\", \"Beschreibung\": \"Unsichere TLS-Versionen\", \"CVSS Score\": 5.3, \"Asset Kritikalität\": \"Hoch\"},\n",
    "    {\"Finding ID\": \"CVE-2020-9999\", \"Beschreibung\": \"Informationsleckage\", \"CVSS Score\": 3.4, \"Asset Kritikalität\": \"Niedrig\"},\n",
    "]\n",
    "\n",
    "df = pd.DataFrame(data)\n",
    "df\n"
   ]
  },
  {
   "cell_type": "code",
   "execution_count": null,
   "id": "bb0e8802",
   "metadata": {},
   "outputs": [],
   "source": [
    "\n",
    "# Funktion zur Risikobewertung: Kombination aus CVSS-Score und Asset-Kritikalität\n",
    "def risk_level(row):\n",
    "    score = row[\"CVSS Score\"]\n",
    "    krit = row[\"Asset Kritikalität\"]\n",
    "    \n",
    "    if score >= 9.0 or (score >= 7.0 and krit == \"Hoch\"):\n",
    "        return \"Kritisch\"\n",
    "    elif score >= 7.0:\n",
    "        return \"Hoch\"\n",
    "    elif score >= 4.0:\n",
    "        return \"Mittel\"\n",
    "    else:\n",
    "        return \"Niedrig\"\n",
    "\n",
    "df[\"Risikostufe\"] = df.apply(risk_level, axis=1)\n",
    "df\n"
   ]
  },
  {
   "cell_type": "code",
   "execution_count": null,
   "id": "f6490ab3",
   "metadata": {},
   "outputs": [],
   "source": [
    "\n",
    "# Anzahl Findings pro Risikostufe\n",
    "summary = df[\"Risikostufe\"].value_counts()\n",
    "summary\n"
   ]
  },
  {
   "cell_type": "code",
   "execution_count": null,
   "id": "218530c1",
   "metadata": {},
   "outputs": [],
   "source": [
    "\n",
    "# Export der Ergebnisse in CSV\n",
    "df.to_csv(\"vulnerability_results.csv\", index=False)\n",
    "print(\"Ergebnisse in vulnerability_results.csv exportiert.\")\n"
   ]
  }
 ],
 "metadata": {},
 "nbformat": 4,
 "nbformat_minor": 5
}
